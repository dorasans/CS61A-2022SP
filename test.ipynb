{
 "cells": [
  {
   "cell_type": "code",
   "execution_count": 3,
   "metadata": {},
   "outputs": [
    {
     "data": {
      "text/plain": [
       "24"
      ]
     },
     "execution_count": 3,
     "metadata": {},
     "output_type": "execute_result"
    }
   ],
   "source": [
    "def fact(n):\n",
    "    if n==0:\n",
    "        return 1\n",
    "    return n*fact(n-1)\n",
    "fact(4)"
   ]
  },
  {
   "cell_type": "code",
   "execution_count": 3,
   "metadata": {},
   "outputs": [
    {
     "data": {
      "text/plain": [
       "270"
      ]
     },
     "execution_count": 3,
     "metadata": {},
     "output_type": "execute_result"
    }
   ],
   "source": [
    "def multiply(m, n):\n",
    "    \"\"\" Takes two positive integers and returns their product using recursion.\n",
    "    >>> multiply(5, 3)\n",
    "    15\n",
    "    \"\"\"\n",
    "    \"*** YOUR CODE HERE ***\"\n",
    "    if n==1:\n",
    "        return m\n",
    "    else: \n",
    "        return m+multiply(m,n-1)\n",
    "multiply(45,6)"
   ]
  },
  {
   "cell_type": "code",
   "execution_count": 1,
   "metadata": {},
   "outputs": [
    {
     "data": {
      "text/plain": [
       "15"
      ]
     },
     "execution_count": 1,
     "metadata": {},
     "output_type": "execute_result"
    }
   ],
   "source": [
    "def skip_mul(n):\n",
    "    \"\"\"Return the product of n * (n - 2) * (n - 4) * ...\n",
    "\n",
    "    >>> skip_mul(5) # 5 * 3 * 1\n",
    "    15\n",
    "    >>> skip_mul(8) # 8 * 6 * 4 * 2\n",
    "    384\n",
    "    \"\"\"\n",
    "    if n == 2:\n",
    "        return 2\n",
    "    elif n==1:\n",
    "        return 1\n",
    "    else:\n",
    "        return n * skip_mul(n - 2)\n",
    "skip_mul(5)"
   ]
  },
  {
   "cell_type": "code",
   "execution_count": 1,
   "metadata": {},
   "outputs": [
    {
     "name": "stdout",
     "output_type": "stream",
     "text": [
      "10\n",
      "5\n",
      "16\n",
      "8\n",
      "4\n",
      "2\n",
      "1\n"
     ]
    },
    {
     "data": {
      "text/plain": [
       "7"
      ]
     },
     "execution_count": 1,
     "metadata": {},
     "output_type": "execute_result"
    }
   ],
   "source": [
    "def hailstone(n):\n",
    "    \"\"\"Print out the hailstone sequence starting at n, and return the number of elements in the sequence.\n",
    "    >>> a = hailstone(10)\n",
    "    10\n",
    "    5\n",
    "    16\n",
    "    8\n",
    "    4\n",
    "    2\n",
    "    1\n",
    "    >>> a\n",
    "    7\n",
    "    >>> b = hailstone(1)\n",
    "    1\n",
    "    >>> b\n",
    "    1\n",
    "    \"\"\"\n",
    "    \"*** YOUR CODE HERE ***\"\n",
    "    # k=0\n",
    "    # if n==1:\n",
    "    #     print(1)\n",
    "    #     return k+1\n",
    "    # if n%2==0:\n",
    "    #     print(n)\n",
    "    #     k=hailstone(n//2)\n",
    "    #     return k+1\n",
    "    # else:\n",
    "    #     print(n)\n",
    "    #     k=hailstone(n*3+1)\n",
    "    #     return k+1\n",
    "    print(n)\n",
    "    if n==1:\n",
    "        return 1\n",
    "    elif n%2==0:\n",
    "        return 1 + hailstone(n//2)\n",
    "    else:\n",
    "        return 1 + hailstone(n*3+1)\n",
    "hailstone(10)"
   ]
  },
  {
   "cell_type": "code",
   "execution_count": 17,
   "metadata": {},
   "outputs": [
    {
     "data": {
      "text/plain": [
       "433221"
      ]
     },
     "execution_count": 17,
     "metadata": {},
     "output_type": "execute_result"
    }
   ],
   "source": [
    "def merge(n1, n2):\n",
    "    \"\"\" Merges two numbers by digit in decreasing order\n",
    "    >>> merge(31, 42)\n",
    "    4321\n",
    "    >>> merge(21, 0)\n",
    "    21\n",
    "    >>> merge (21, 31) \n",
    "    3211\n",
    "    \"\"\"\n",
    "    \"*** YOUR CODE HERE ***\"\n",
    "    if n1==0:\n",
    "        return n2\n",
    "    elif n2==0:\n",
    "        return n1\n",
    "    elif n1%10<n2%10:\n",
    "        return merge(n1//10,n2)*10+n1%10\n",
    "    else:\n",
    "        return merge(n1,n2//10)*10+n2%10\n",
    "merge(4321,32)"
   ]
  },
  {
   "cell_type": "code",
   "execution_count": 24,
   "metadata": {},
   "outputs": [
    {
     "data": {
      "text/plain": [
       "True"
      ]
     },
     "execution_count": 24,
     "metadata": {},
     "output_type": "execute_result"
    }
   ],
   "source": [
    "def is_prime(n):\n",
    "    \"\"\"Returns True if n is a prime number and False otherwise.\n",
    "\n",
    "    >>> is_prime(2)\n",
    "    True\n",
    "    >>> is_prime(16)\n",
    "    False\n",
    "    >>> is_prime(521)\n",
    "    True\n",
    "    \"\"\"\n",
    "    \"*** YOUR CODE HERE ***\"\n",
    "    def helper(k):\n",
    "        if k>n**0.5:\n",
    "            return True\n",
    "        elif n%k==0:\n",
    "            return False\n",
    "        return helper(k+1)\n",
    "    return helper(2)\n",
    "is_prime(521)"
   ]
  },
  {
   "cell_type": "code",
   "execution_count": 25,
   "metadata": {},
   "outputs": [
    {
     "name": "stdout",
     "output_type": "stream",
     "text": [
      "1\n",
      "12\n",
      "123\n",
      "1234\n",
      "123\n",
      "12\n",
      "1\n"
     ]
    }
   ],
   "source": [
    "# lecture 9 example: inverse cascade\n",
    "def inverse_cascade(n):\n",
    "    grow(n)\n",
    "    print(n)\n",
    "    shrink(n)\n",
    "def f_then_g(f,g,n):\n",
    "    if n:\n",
    "        f(n)\n",
    "        g(n)\n",
    "grow = lambda n: f_then_g(grow,print,n//10)\n",
    "shrink = lambda n: f_then_g(print,shrink,n//10)\n",
    "inverse_cascade(1234)"
   ]
  },
  {
   "cell_type": "code",
   "execution_count": 2,
   "metadata": {},
   "outputs": [
    {
     "name": "stdout",
     "output_type": "stream",
     "text": [
      "10\n",
      "5\n",
      "16\n",
      "8\n",
      "4\n",
      "2\n",
      "1\n"
     ]
    },
    {
     "data": {
      "text/plain": [
       "7"
      ]
     },
     "execution_count": 2,
     "metadata": {},
     "output_type": "execute_result"
    }
   ],
   "source": [
    "def hailstone(n):\n",
    "    \"\"\"Print out the hailstone sequence starting at n, and return the number of elements in the sequence.\n",
    "    >>> a = hailstone(10)\n",
    "    10\n",
    "    5\n",
    "    16\n",
    "    8\n",
    "    4\n",
    "    2\n",
    "    1\n",
    "    >>> a\n",
    "    7\n",
    "    >>> b = hailstone(1)\n",
    "    1\n",
    "    >>> b\n",
    "    1\n",
    "    \"\"\"\n",
    "    \"*** YOUR CODE HERE ***\"\n",
    "    print(n)\n",
    "    if n==1:\n",
    "        return 1\n",
    "    elif n%2==0:\n",
    "        return 1+hailstone(n//2)\n",
    "    else:\n",
    "        return 1+hailstone(n*3+1)\n",
    "hailstone(10)"
   ]
  },
  {
   "cell_type": "code",
   "execution_count": 29,
   "metadata": {},
   "outputs": [
    {
     "data": {
      "text/plain": [
       "433211"
      ]
     },
     "execution_count": 29,
     "metadata": {},
     "output_type": "execute_result"
    }
   ],
   "source": [
    "def merge(n1, n2):\n",
    "    \"\"\" Merges two numbers by digit in decreasing order\n",
    "    >>> merge(31, 42)\n",
    "    4321\n",
    "    >>> merge(21, 0)\n",
    "    21\n",
    "    >>> merge (21, 31) \n",
    "    3211\n",
    "    \"\"\"\n",
    "    \"*** YOUR CODE HERE ***\"\n",
    "    if n1==0:\n",
    "        return n2\n",
    "    elif n2==0:\n",
    "        return n1\n",
    "    elif n1%10<n2%10:\n",
    "        return merge(n1//10,n2)*10+n1%10\n",
    "    else:\n",
    "        return merge(n1,n2//10)*10+n2%10"
   ]
  },
  {
   "cell_type": "code",
   "execution_count": 1,
   "metadata": {},
   "outputs": [
    {
     "data": {
      "text/plain": [
       "9227465"
      ]
     },
     "execution_count": 1,
     "metadata": {},
     "output_type": "execute_result"
    }
   ],
   "source": [
    "# lecture 9 tree recursion\n",
    "def fib(n):\n",
    "    if n==0:\n",
    "        return 0\n",
    "    elif n==1:\n",
    "        return 1\n",
    "    else:\n",
    "        return fib(n-1)+fib(n-2)\n",
    "fib(35)"
   ]
  },
  {
   "cell_type": "code",
   "execution_count": 1,
   "metadata": {},
   "outputs": [
    {
     "data": {
      "text/plain": [
       "9"
      ]
     },
     "execution_count": 1,
     "metadata": {},
     "output_type": "execute_result"
    }
   ],
   "source": [
    "# lecture9 example: counting partitions\n",
    "def count_partitions(n,m):\n",
    "    if n==0:\n",
    "        return 1\n",
    "    elif n<0:\n",
    "        return 0\n",
    "    elif m==0:\n",
    "        return 0\n",
    "    else:\n",
    "        with_m = count_partitions(n-m,m)\n",
    "        without_m = count_partitions(n,m-1)\n",
    "        return with_m + without_m\n",
    "count_partitions(6,4)"
   ]
  },
  {
   "cell_type": "code",
   "execution_count": 9,
   "metadata": {},
   "outputs": [
    {
     "data": {
      "text/plain": [
       "-6"
      ]
     },
     "execution_count": 9,
     "metadata": {},
     "output_type": "execute_result"
    }
   ],
   "source": [
    "def num_eights(pos):\n",
    "    \"\"\"Returns the number of times 8 appears as a digit of pos.\n",
    "\n",
    "    >>> num_eights(3)\n",
    "    0\n",
    "    >>> num_eights(8)\n",
    "    1\n",
    "    >>> num_eights(88888888)\n",
    "    8\n",
    "    >>> num_eights(2638)\n",
    "    1\n",
    "    >>> num_eights(86380)\n",
    "    2\n",
    "    >>> num_eights(12345)\n",
    "    0\n",
    "    >>> from construct_check import check\n",
    "    >>> # ban all assignment statements\n",
    "    >>> check(HW_SOURCE_FILE, 'num_eights',\n",
    "    ...       ['Assign', 'AnnAssign', 'AugAssign', 'NamedExpr'])\n",
    "    True\n",
    "    \"\"\"\n",
    "    \"*** YOUR CODE HERE ***\"\n",
    "    if pos//10==0 and pos!=8:\n",
    "        return 0\n",
    "    elif pos%10==8:\n",
    "        return num_eights(pos//10)+1\n",
    "    else:\n",
    "        return num_eights(pos//10)\n",
    "\n",
    "\n",
    "def pingpong(n):\n",
    "    \"\"\"Return the nth element of the ping-pong sequence.\n",
    "\n",
    "    >>> pingpong(8)\n",
    "    8\n",
    "    >>> pingpong(10)\n",
    "    6\n",
    "    >>> pingpong(15)\n",
    "    1\n",
    "    >>> pingpong(21)\n",
    "    -1\n",
    "    >>> pingpong(22)\n",
    "    -2\n",
    "    >>> pingpong(30)\n",
    "    -2\n",
    "    >>> pingpong(68)\n",
    "    0\n",
    "    >>> pingpong(69)\n",
    "    -1\n",
    "    >>> pingpong(80)\n",
    "    0\n",
    "    >>> pingpong(81)\n",
    "    1\n",
    "    >>> pingpong(82)\n",
    "    0\n",
    "    >>> pingpong(100)\n",
    "    -6\n",
    "    >>> from construct_check import check\n",
    "    >>> # ban assignment statements\n",
    "    >>> check(HW_SOURCE_FILE, 'pingpong',\n",
    "    ...       ['Assign', 'AnnAssign', 'AugAssign', 'NamedExpr'])\n",
    "    True\n",
    "    \"\"\"\n",
    "    \"*** YOUR CODE HERE ***\"\n",
    "    def helper(n,i,curr,direction):\n",
    "        if i==n:\n",
    "            return curr\n",
    "        elif i%8==0 or num_eights(i):\n",
    "            return helper(n,i+1,curr-direction,-direction)\n",
    "        else:\n",
    "            return helper(n,i+1,curr+direction,direction)\n",
    "    return helper(n,1,1,1)\n",
    "pingpong(100)\n"
   ]
  },
  {
   "cell_type": "code",
   "execution_count": 7,
   "metadata": {},
   "outputs": [
    {
     "data": {
      "text/plain": [
       "1463"
      ]
     },
     "execution_count": 7,
     "metadata": {},
     "output_type": "execute_result"
    }
   ],
   "source": [
    "def get_larger_coin(coin):\n",
    "    \"\"\"Returns the next larger coin in order.\n",
    "    >>> get_larger_coin(1)\n",
    "    5\n",
    "    >>> get_larger_coin(5)\n",
    "    10\n",
    "    >>> get_larger_coin(10)\n",
    "    25\n",
    "    >>> get_larger_coin(2) # Other values return None\n",
    "    \"\"\"\n",
    "    if coin == 1:\n",
    "        return 5\n",
    "    elif coin == 5:\n",
    "        return 10\n",
    "    elif coin == 10:\n",
    "        return 25\n",
    "\n",
    "\n",
    "def get_smaller_coin(coin):\n",
    "    \"\"\"Returns the next smaller coin in order.\n",
    "    >>> get_smaller_coin(25)\n",
    "    10\n",
    "    >>> get_smaller_coin(10)\n",
    "    5\n",
    "    >>> get_smaller_coin(5)\n",
    "    1\n",
    "    >>> get_smaller_coin(2) # Other values return None\n",
    "    \"\"\"\n",
    "    if coin == 25:\n",
    "        return 10\n",
    "    elif coin == 10:\n",
    "        return 5\n",
    "    elif coin == 5:\n",
    "        return 1\n",
    "\n",
    "\n",
    "def count_coins(change):\n",
    "    \"\"\"Return the number of ways to make change using coins of value of 1, 5, 10, 25.\n",
    "    >>> count_coins(15)\n",
    "    6\n",
    "    >>> count_coins(10)\n",
    "    4\n",
    "    >>> count_coins(20)\n",
    "    9\n",
    "    >>> count_coins(100) # How many ways to make change for a dollar?\n",
    "    242\n",
    "    >>> count_coins(200)\n",
    "    1463\n",
    "    >>> from construct_check import check\n",
    "    >>> # ban iteration\n",
    "    >>> check(HW_SOURCE_FILE, 'count_coins', ['While', 'For'])\n",
    "    True\n",
    "    \"\"\"\n",
    "    \"*** YOUR CODE HERE ***\"\n",
    "    def helper(c,coin):\n",
    "        if c==0:\n",
    "            return 1\n",
    "        elif c<0:\n",
    "            return 0\n",
    "        elif coin==None:\n",
    "            return 0\n",
    "        elif c<coin:\n",
    "            return 0\n",
    "        else:\n",
    "            return helper(c-coin,coin)+helper(c,get_larger_coin(coin))\n",
    "    return helper(change,1)\n",
    "count_coins(200)"
   ]
  },
  {
   "cell_type": "code",
   "execution_count": 1,
   "metadata": {},
   "outputs": [
    {
     "data": {
      "text/plain": [
       "54"
      ]
     },
     "execution_count": 1,
     "metadata": {},
     "output_type": "execute_result"
    }
   ],
   "source": [
    "def summation(n, term):\n",
    "    \"\"\"Return the sum of numbers 1 through n (including n) wíth term applied to each number.\n",
    "    Implement using recursion!\n",
    "\n",
    "    >>> summation(5, lambda x: x * x * x) # 1^3 + 2^3 + 3^3 + 4^3 + 5^3\n",
    "    225\n",
    "    >>> summation(9, lambda x: x + 1) # 2 + 3 + 4 + 5 + 6 + 7 + 8 + 9 + 10\n",
    "    54\n",
    "    >>> summation(5, lambda x: 2**x) # 2^1 + 2^2 + 2^3 + 2^4 + 2^5\n",
    "    62\n",
    "    >>> # Do not use while/for loops!\n",
    "    >>> from construct_check import check\n",
    "    >>> # ban iteration\n",
    "    >>> check(HW_SOURCE_FILE, 'summation',\n",
    "    ...       ['While', 'For'])\n",
    "    True\n",
    "    \"\"\"\n",
    "    assert n >= 1\n",
    "    \"*** YOUR CODE HERE ***\"\n",
    "    if n==1:\n",
    "        return term(1)\n",
    "    else:\n",
    "        return term(n)+summation(n-1,term)\n",
    "summation(9, lambda x: x + 1)"
   ]
  },
  {
   "cell_type": "code",
   "execution_count": 4,
   "metadata": {},
   "outputs": [
    {
     "data": {
      "text/plain": [
       "1"
      ]
     },
     "execution_count": 4,
     "metadata": {},
     "output_type": "execute_result"
    }
   ],
   "source": [
    "def paths(m, n):\n",
    "    \"\"\"Return the number of paths from one corner of an\n",
    "    M by N grid to the opposite corner.\n",
    "\n",
    "    >>> paths(2, 2)\n",
    "    2\n",
    "    >>> paths(5, 7)\n",
    "    210\n",
    "    >>> paths(117, 1)\n",
    "    1\n",
    "    >>> paths(1, 157)\n",
    "    1\n",
    "    \"\"\"\n",
    "    \"*** YOUR CODE HERE ***\"\n",
    "    if n==1 or m==1:\n",
    "        return 1\n",
    "    else:\n",
    "        return paths(m-1,n)+paths(m,n-1)\n",
    "paths(1,157)"
   ]
  },
  {
   "cell_type": "code",
   "execution_count": 2,
   "metadata": {},
   "outputs": [
    {
     "data": {
      "text/plain": [
       "6"
      ]
     },
     "execution_count": 2,
     "metadata": {},
     "output_type": "execute_result"
    }
   ],
   "source": [
    "def pascal(row, column):\n",
    "    \"\"\"Returns the value of the item in Pascal's Triangle\n",
    "    whose position is specified by row and column.\n",
    "    >>> pascal(0, 0)\n",
    "    1\n",
    "    >>> pascal(0, 5)\t# Empty entry; outside of Pascal's Triangle\n",
    "    0\n",
    "    >>> pascal(3, 2)\t# Row 3 (1 3 3 1), Column 2\n",
    "    3\n",
    "    >>> pascal(4, 2)     # Row 4 (1 4 6 4 1), Column 2\n",
    "    6\n",
    "    \"\"\"\n",
    "    \"*** YOUR CODE HERE ***\"\n",
    "    if column>row:\n",
    "        return 0\n",
    "    elif row==column or column==0:\n",
    "        return 1\n",
    "    else:\n",
    "        return pascal(row-1,column)+pascal(row-1,column-1)\n",
    "pascal(4,2)"
   ]
  },
  {
   "cell_type": "code",
   "execution_count": 2,
   "metadata": {},
   "outputs": [
    {
     "data": {
      "text/plain": [
       "'hi'"
      ]
     },
     "execution_count": 2,
     "metadata": {},
     "output_type": "execute_result"
    }
   ],
   "source": [
    "def choose(paragraphs, select, k):\n",
    "    \"\"\"Return the Kth paragraph from PARAGRAPHS for which SELECT called on the\n",
    "    paragraph returns True. If there are fewer than K such paragraphs, return\n",
    "    the empty string.\n",
    "\n",
    "    Arguments:\n",
    "        paragraphs: a list of strings\n",
    "        select: a function that returns True for paragraphs that can be selected\n",
    "        k: an integer\n",
    "\n",
    "    >>> ps = ['hi', 'how are you', 'fine']\n",
    "    >>> s = lambda p: len(p) <= 4\n",
    "    >>> choose(ps, s, 0)\n",
    "    'hi'\n",
    "    >>> choose(ps, s, 1)\n",
    "    'fine'\n",
    "    >>> choose(ps, s, 2)\n",
    "    ''\n",
    "    \"\"\"\n",
    "    # BEGIN PROBLEM 1\n",
    "    \"*** YOUR CODE HERE ***\"\n",
    "    para = []\n",
    "    k = 0\n",
    "    for i in paragraphs:\n",
    "        if select(i):\n",
    "            para.append(i)\n",
    "    if k>len(para)-1:\n",
    "        return ''\n",
    "    else:\n",
    "        return para[k]\n",
    "ps = ['hi', 'how are you', 'fine']\n",
    "s = lambda p: len(p) <= 4\n",
    "choose(ps, s, 0)"
   ]
  },
  {
   "cell_type": "code",
   "execution_count": 4,
   "metadata": {},
   "outputs": [
    {
     "name": "stdout",
     "output_type": "stream",
     "text": [
      "ni\n"
     ]
    }
   ],
   "source": [
    "k='nice'\n",
    "print(k[0:2])"
   ]
  }
 ],
 "metadata": {
  "kernelspec": {
   "display_name": "Python 3.9.13 64-bit",
   "language": "python",
   "name": "python3"
  },
  "language_info": {
   "codemirror_mode": {
    "name": "ipython",
    "version": 3
   },
   "file_extension": ".py",
   "mimetype": "text/x-python",
   "name": "python",
   "nbconvert_exporter": "python",
   "pygments_lexer": "ipython3",
   "version": "3.9.13"
  },
  "orig_nbformat": 4,
  "vscode": {
   "interpreter": {
    "hash": "4cff3abf1678755e0069fd79299a535fe1940bcd71a6b01d9f4386710b2b163f"
   }
  }
 },
 "nbformat": 4,
 "nbformat_minor": 2
}
