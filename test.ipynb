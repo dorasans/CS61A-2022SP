{
 "cells": [
  {
   "cell_type": "code",
   "execution_count": 3,
   "metadata": {},
   "outputs": [
    {
     "data": {
      "text/plain": [
       "24"
      ]
     },
     "execution_count": 3,
     "metadata": {},
     "output_type": "execute_result"
    }
   ],
   "source": [
    "def fact(n):\n",
    "    if n==0:\n",
    "        return 1\n",
    "    return n*fact(n-1)\n",
    "fact(4)"
   ]
  },
  {
   "cell_type": "code",
   "execution_count": 3,
   "metadata": {},
   "outputs": [
    {
     "data": {
      "text/plain": [
       "270"
      ]
     },
     "execution_count": 3,
     "metadata": {},
     "output_type": "execute_result"
    }
   ],
   "source": [
    "def multiply(m, n):\n",
    "    \"\"\" Takes two positive integers and returns their product using recursion.\n",
    "    >>> multiply(5, 3)\n",
    "    15\n",
    "    \"\"\"\n",
    "    \"*** YOUR CODE HERE ***\"\n",
    "    if n==1:\n",
    "        return m\n",
    "    else: \n",
    "        return m+multiply(m,n-1)\n",
    "multiply(45,6)"
   ]
  },
  {
   "cell_type": "code",
   "execution_count": 1,
   "metadata": {},
   "outputs": [
    {
     "data": {
      "text/plain": [
       "15"
      ]
     },
     "execution_count": 1,
     "metadata": {},
     "output_type": "execute_result"
    }
   ],
   "source": [
    "def skip_mul(n):\n",
    "    \"\"\"Return the product of n * (n - 2) * (n - 4) * ...\n",
    "\n",
    "    >>> skip_mul(5) # 5 * 3 * 1\n",
    "    15\n",
    "    >>> skip_mul(8) # 8 * 6 * 4 * 2\n",
    "    384\n",
    "    \"\"\"\n",
    "    if n == 2:\n",
    "        return 2\n",
    "    elif n==1:\n",
    "        return 1\n",
    "    else:\n",
    "        return n * skip_mul(n - 2)\n",
    "skip_mul(5)"
   ]
  },
  {
   "cell_type": "code",
   "execution_count": 6,
   "metadata": {},
   "outputs": [
    {
     "name": "stdout",
     "output_type": "stream",
     "text": [
      "10\n",
      "5\n",
      "16\n",
      "8\n",
      "4\n",
      "2\n",
      "1\n"
     ]
    },
    {
     "data": {
      "text/plain": [
       "7"
      ]
     },
     "execution_count": 6,
     "metadata": {},
     "output_type": "execute_result"
    }
   ],
   "source": [
    "def hailstone(n):\n",
    "    \"\"\"Print out the hailstone sequence starting at n, and return the number of elements in the sequence.\n",
    "    >>> a = hailstone(10)\n",
    "    10\n",
    "    5\n",
    "    16\n",
    "    8\n",
    "    4\n",
    "    2\n",
    "    1\n",
    "    >>> a\n",
    "    7\n",
    "    >>> b = hailstone(1)\n",
    "    1\n",
    "    >>> b\n",
    "    1\n",
    "    \"\"\"\n",
    "    \"*** YOUR CODE HERE ***\"\n",
    "    # k=0\n",
    "    # if n==1:\n",
    "    #     print(1)\n",
    "    #     return k+1\n",
    "    # if n%2==0:\n",
    "    #     print(n)\n",
    "    #     k=hailstone(n//2)\n",
    "    #     return k+1\n",
    "    # else:\n",
    "    #     print(n)\n",
    "    #     k=hailstone(n*3+1)\n",
    "    #     return k+1\n",
    "    print(n)\n",
    "    if n==1:\n",
    "        return 1\n",
    "    elif n%2==0:\n",
    "        return 1 + hailstone(n//2)\n",
    "    else:\n",
    "        return 1 + hailstone(n*3+1)\n",
    "hailstone(10)"
   ]
  },
  {
   "cell_type": "code",
   "execution_count": 17,
   "metadata": {},
   "outputs": [
    {
     "data": {
      "text/plain": [
       "433221"
      ]
     },
     "execution_count": 17,
     "metadata": {},
     "output_type": "execute_result"
    }
   ],
   "source": [
    "def merge(n1, n2):\n",
    "    \"\"\" Merges two numbers by digit in decreasing order\n",
    "    >>> merge(31, 42)\n",
    "    4321\n",
    "    >>> merge(21, 0)\n",
    "    21\n",
    "    >>> merge (21, 31) \n",
    "    3211\n",
    "    \"\"\"\n",
    "    \"*** YOUR CODE HERE ***\"\n",
    "    if n1==0:\n",
    "        return n2\n",
    "    elif n2==0:\n",
    "        return n1\n",
    "    elif n1%10<n2%10:\n",
    "        return merge(n1//10,n2)*10+n1%10\n",
    "    else:\n",
    "        return merge(n1,n2//10)*10+n2%10\n",
    "merge(4321,32)"
   ]
  },
  {
   "cell_type": "code",
   "execution_count": 24,
   "metadata": {},
   "outputs": [
    {
     "data": {
      "text/plain": [
       "True"
      ]
     },
     "execution_count": 24,
     "metadata": {},
     "output_type": "execute_result"
    }
   ],
   "source": [
    "def is_prime(n):\n",
    "    \"\"\"Returns True if n is a prime number and False otherwise.\n",
    "\n",
    "    >>> is_prime(2)\n",
    "    True\n",
    "    >>> is_prime(16)\n",
    "    False\n",
    "    >>> is_prime(521)\n",
    "    True\n",
    "    \"\"\"\n",
    "    \"*** YOUR CODE HERE ***\"\n",
    "    def helper(k):\n",
    "        if k>n**0.5:\n",
    "            return True\n",
    "        elif n%k==0:\n",
    "            return False\n",
    "        return helper(k+1)\n",
    "    return helper(2)\n",
    "is_prime(521)"
   ]
  }
 ],
 "metadata": {
  "kernelspec": {
   "display_name": "Python 3.9.13 64-bit",
   "language": "python",
   "name": "python3"
  },
  "language_info": {
   "codemirror_mode": {
    "name": "ipython",
    "version": 3
   },
   "file_extension": ".py",
   "mimetype": "text/x-python",
   "name": "python",
   "nbconvert_exporter": "python",
   "pygments_lexer": "ipython3",
   "version": "3.9.13"
  },
  "orig_nbformat": 4,
  "vscode": {
   "interpreter": {
    "hash": "4cff3abf1678755e0069fd79299a535fe1940bcd71a6b01d9f4386710b2b163f"
   }
  }
 },
 "nbformat": 4,
 "nbformat_minor": 2
}
